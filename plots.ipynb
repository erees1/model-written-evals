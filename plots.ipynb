{
 "cells": [
  {
   "cell_type": "code",
   "execution_count": 9,
   "id": "ed8efd7a-e9bb-4c80-a5f6-21ff78faa6af",
   "metadata": {
    "tags": []
   },
   "outputs": [],
   "source": [
    "import pandas as pd\n",
    "import matplotlib.pyplot as plt"
   ]
  },
  {
   "cell_type": "code",
   "execution_count": 10,
   "id": "af89b9a5-4a0b-4f84-a30a-1b83685eaac3",
   "metadata": {
    "tags": []
   },
   "outputs": [],
   "source": [
    "size_dict = {\n",
    "    \"gpt2\": 124_000_000,\n",
    "    \"gpt2-medium\": 355_000_000,\n",
    "    \"gpt2-large\": 774_000_000,\n",
    "    \"gpt2-xl\": 1_500_000_000,\n",
    "    # GPT-3 sizes are based on https://blog.eleuther.ai/gpt3-model-sizes/\n",
    "    \"ada\": 350_000_000,\n",
    "    \"babbage\": 1_300_000_000,\n",
    "    \"curie\": 6_700_000_000,\n",
    "    \"davinci\": 175_000_000_000,\n",
    "    \"text-ada-001\": 350_000_000,\n",
    "    \"text-babbage-001\": 1_300_000_000,\n",
    "    \"text-curie-001\": 6_700_000_000,\n",
    "    \"text-davinci-001\": 175_000_000_000,\n",
    "    # gpt neo sizes from their names\n",
    "    \"gpt-neo-125M\": 125_000_000,\n",
    "    \"gpt-neo-1.3B\": 1_300_000_000,\n",
    "    \"gpt-neo-2.7B\": 2_700_000_000,\n",
    "    \"gpt-j-6B\": 6_000_000_000,\n",
    "    # opt sizes from their names\n",
    "    \"opt-125m\": 125_000_000,\n",
    "    \"opt-350m\": 350_000_000,\n",
    "    \"opt-1.3b\": 1_300_000_000,\n",
    "    \"opt-2.7b\": 2_700_000_000,\n",
    "    \"opt-6.7b\": 6_700_000_000,\n",
    "    \"opt-13b\": 13_000_000_000,\n",
    "}"
   ]
  },
  {
   "cell_type": "code",
   "execution_count": 11,
   "id": "5a830691-99f4-4fdf-a054-e86b132f4267",
   "metadata": {
    "tags": []
   },
   "outputs": [],
   "source": [
    "df = pd.read_csv('model_evaluation.csv')\n",
    "Y = df.pop('gt')\n",
    "df.pop('questions');\n",
    "df.pop('Unnamed: 0');"
   ]
  },
  {
   "cell_type": "code",
   "execution_count": 12,
   "id": "ff15dc88-d538-47a3-8a69-3feea6518408",
   "metadata": {
    "tags": []
   },
   "outputs": [],
   "source": [
    "are_correct = df.eq(Y, axis=0)"
   ]
  },
  {
   "cell_type": "code",
   "execution_count": 13,
   "id": "0890f3ef-dade-4dd8-99d4-0696449a8ab4",
   "metadata": {
    "tags": []
   },
   "outputs": [],
   "source": [
    "avgs = are_correct.mean(axis=0)"
   ]
  },
  {
   "cell_type": "code",
   "execution_count": 14,
   "id": "89675b9f-42ce-4223-b3c4-c4611a0f366f",
   "metadata": {
    "tags": []
   },
   "outputs": [
    {
     "data": {
      "text/plain": [
       "ada    0.954545\n",
       "dtype: float64"
      ]
     },
     "execution_count": 14,
     "metadata": {},
     "output_type": "execute_result"
    }
   ],
   "source": [
    "avgs"
   ]
  },
  {
   "cell_type": "code",
   "execution_count": 15,
   "id": "b1b7668c-1fb1-4409-ab82-ad6139556a96",
   "metadata": {
    "tags": []
   },
   "outputs": [],
   "source": [
    "def plot_model_performance_vs_size(performance_data, size_dict):\n",
    "    # Filter size_dict to only include models in the performance_data\n",
    "    filtered_size_dict = {\n",
    "        model: size for model, size in size_dict.items() if model in performance_data.index\n",
    "    }\n",
    "\n",
    "    # Separate data for models with and without 'text' in their names\n",
    "    x_without_text = [filtered_size_dict[model] for model in performance_data.index if \"text\" not in model]\n",
    "    y_without_text = [performance_data[model] for model in performance_data.index if \"text\" not in model]\n",
    "\n",
    "    x_with_text = [filtered_size_dict[model] for model in performance_data.index if \"text\" in model]\n",
    "    y_with_text = [performance_data[model] for model in performance_data.index if \"text\" in model]\n",
    "\n",
    "    # Create the plot\n",
    "    plt.figure(figsize=(10, 5))\n",
    "    plt.plot(x_without_text, y_without_text, linestyle='-', linewidth=2, color='blue')\n",
    "    plt.scatter(x_without_text, y_without_text, marker='x', s=100, color='blue', label='Base models')\n",
    "\n",
    "    plt.plot(x_with_text, y_with_text, linestyle='-', linewidth=2, color='red')\n",
    "    plt.scatter(x_with_text, y_with_text, marker='x', s=100, color='red', label='FeedME models')\n",
    "\n",
    "    # Customize the plot\n",
    "    plt.xscale('log')\n",
    "    plt.xticks(x_without_text, [i for i in performance_data.index if 'text' not in i], rotation=45)\n",
    "    plt.yticks([i / 10 for i in range(11)])\n",
    "    plt.ylim(0, 1)\n",
    "    plt.xlabel('Model Size')\n",
    "    plt.ylabel('Performance')\n",
    "    plt.title('Performance vs Model Size')\n",
    "    plt.legend()\n",
    "\n",
    "    # Show the plot\n",
    "    plt.show()\n",
    "    "
   ]
  },
  {
   "cell_type": "code",
   "execution_count": 16,
   "id": "d5de6b37-752c-483b-9e9d-51f2eac675d4",
   "metadata": {
    "tags": []
   },
   "outputs": [
    {
     "data": {
      "image/png": "[encoded data removed]",
      "text/plain": [
       "<Figure size 1000x500 with 1 Axes>"
      ]
     },
     "metadata": {},
     "output_type": "display_data"
    }
   ],
   "source": [
    "plot_model_performance_vs_size(avgs, size_dict)"
   ]
  },
  {
   "cell_type": "code",
   "execution_count": null,
   "id": "8ec63a35-b0d1-47f5-aa6b-e7b38d3c666b",
   "metadata": {},
   "outputs": [],
   "source": []
  }
 ],
 "metadata": {
  "kernelspec": {
   "display_name": "Python 3 (ipykernel)",
   "language": "python",
   "name": "python3"
  },
  "language_info": {
   "codemirror_mode": {
    "name": "ipython",
    "version": 3
   },
   "file_extension": ".py",
   "mimetype": "text/x-python",
   "name": "python",
   "nbconvert_exporter": "python",
   "pygments_lexer": "ipython3",
   "version": "3.10.3"
  }
 },
 "nbformat": 4,
 "nbformat_minor": 5
}
